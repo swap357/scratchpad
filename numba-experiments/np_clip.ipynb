{
 "cells": [
  {
   "cell_type": "markdown",
   "id": "db85b8a4",
   "metadata": {},
   "source": [
    "### Installations\n"
   ]
  },
  {
   "cell_type": "code",
   "execution_count": 2,
   "id": "5adab152-71a9-4777-890c-e8d6ca350e9a",
   "metadata": {},
   "outputs": [
    {
     "name": "stdout",
     "output_type": "stream",
     "text": [
      "\u001b[2mUsing Python 3.12.9 environment at: /Users/swap357/Documents/dev/learning-numba/.venv\u001b[0m\n",
      "\u001b[2K\u001b[2mResolved \u001b[1m3 packages\u001b[0m \u001b[2min 99ms\u001b[0m\u001b[0m                                          \u001b[0m\n",
      "\u001b[2K\u001b[2mInstalled \u001b[1m3 packages\u001b[0m \u001b[2min 49ms\u001b[0m\u001b[0m                                \u001b[0m\n",
      " \u001b[32m+\u001b[39m \u001b[1mllvmlite\u001b[0m\u001b[2m==0.44.0\u001b[0m\n",
      " \u001b[32m+\u001b[39m \u001b[1mnumba\u001b[0m\u001b[2m==0.61.0\u001b[0m\n",
      " \u001b[32m+\u001b[39m \u001b[1mnumpy\u001b[0m\u001b[2m==2.1.3\u001b[0m\n"
     ]
    }
   ],
   "source": [
    "!uv pip install numba"
   ]
  },
  {
   "cell_type": "markdown",
   "id": "0af4b234",
   "metadata": {},
   "source": [
    "## objective: investigate np.clip and np.kron issues\n",
    "\n",
    "This notebook demos numba's implementation of np.clip and np.kron compared to numpy and possible solution.\n",
    "\n",
    "#### np.clip issues:\n",
    "   - Different behavior with NaN/Inf bounds ([#9995](https://github.com/numba/numba/issues/9995), [#10000](https://github.com/numba/numba/issues/10000))\n",
    "   - Type promotion issues with NaN/inf values\n",
    "   - Different behaviour with broadcasting ([#9991](https://github.com/numba/numba/issues/9991))\n",
    "\n",
    "\n",
    "#### np.kron issues:\n",
    "   - Type promotion differences - boolean array ([#9992](https://github.com/numba/numba/issues/9992))\n",
    "\n"
   ]
  },
  {
   "cell_type": "code",
   "execution_count": 2,
   "id": "e4204078-7774-41ce-8b03-5d43fda78585",
   "metadata": {},
   "outputs": [],
   "source": [
    "import numpy as np\n",
    "from numba import njit"
   ]
  },
  {
   "cell_type": "code",
   "execution_count": 3,
   "id": "aa426556",
   "metadata": {},
   "outputs": [
    {
     "name": "stdout",
     "output_type": "stream",
     "text": [
      "NumPy version: 2.1.3\n",
      "Numba version: 0.61.0\n"
     ]
    }
   ],
   "source": [
    "import numba\n",
    "print(f\"NumPy version: {np.__version__}\")\n",
    "print(f\"Numba version: {numba.__version__}\")"
   ]
  },
  {
   "cell_type": "markdown",
   "id": "decda331",
   "metadata": {},
   "source": [
    "### np.clip behavior for normal use-case"
   ]
  },
  {
   "cell_type": "code",
   "execution_count": 4,
   "id": "d2dc42ad-71d3-4112-b320-7a44385669b6",
   "metadata": {},
   "outputs": [
    {
     "name": "stdout",
     "output_type": "stream",
     "text": [
      "Input arrays:\n",
      "arr.dtype: int64\n",
      "a_min.dtype: int64\n",
      "a_max.dtype: int64\n",
      " --------------- \n"
     ]
    }
   ],
   "source": [
    "arr = np.array([1, 2, 5, 10, 15])\n",
    "a_min = np.array([3])\n",
    "a_max = np.array([12])\n",
    "print(\"Input arrays:\")\n",
    "print(\"arr.dtype:\", arr.dtype)\n",
    "print(\"a_min.dtype:\", a_min.dtype)\n",
    "print(\"a_max.dtype:\", a_max.dtype)\n",
    "print(\" --------------- \")"
   ]
  },
  {
   "cell_type": "markdown",
   "id": "a768ae5a",
   "metadata": {},
   "source": [
    "#### checking expected result type when obeying numpy promotion rules"
   ]
  },
  {
   "cell_type": "code",
   "execution_count": 8,
   "id": "a282897e",
   "metadata": {},
   "outputs": [
    {
     "name": "stdout",
     "output_type": "stream",
     "text": [
      "np.result_type(arr, a_min, a_max): int64\n"
     ]
    }
   ],
   "source": [
    "common_dtype = np.result_type(arr, a_min, a_max)\n",
    "print(\"np.result_type(arr, a_min, a_max):\", common_dtype)"
   ]
  },
  {
   "cell_type": "code",
   "execution_count": 10,
   "id": "1a98120e",
   "metadata": {},
   "outputs": [
    {
     "name": "stdout",
     "output_type": "stream",
     "text": [
      "np.clip(arr, a_min, a_max): [ 3  3  5 10 12]\n",
      "py_result.dtype: int64\n",
      " --------------- \n"
     ]
    }
   ],
   "source": [
    "py_result = np.clip(arr, a_min, a_max)\n",
    "print(\"np.clip(arr, a_min, a_max):\", py_result)\n",
    "print(\"py_result.dtype:\", py_result.dtype)\n",
    "print(\" --------------- \")"
   ]
  },
  {
   "cell_type": "code",
   "execution_count": 11,
   "id": "9cdb8c48",
   "metadata": {},
   "outputs": [
    {
     "name": "stdout",
     "output_type": "stream",
     "text": [
      "@numba.njit np.clip(arr, a_min, a_max): [ 3  3  5 10 12]\n",
      "nb_result.dtype: int64\n"
     ]
    }
   ],
   "source": [
    "@njit\n",
    "def clip_njit(arr, a_min, a_max):\n",
    "    return np.clip(arr, a_min, a_max)\n",
    "nb_result = clip_njit(arr, a_min, a_max)\n",
    "print(\"@numba.njit np.clip(arr, a_min, a_max):\", nb_result)\n",
    "print(\"nb_result.dtype:\", nb_result.dtype)"
   ]
  },
  {
   "cell_type": "markdown",
   "id": "45a000cf",
   "metadata": {},
   "source": [
    "### np.clip behavior for when either of a_min or a_max = np.nan"
   ]
  },
  {
   "cell_type": "code",
   "execution_count": 12,
   "id": "aa287862-b1dc-4ca1-8c1f-10b9cb033052",
   "metadata": {},
   "outputs": [
    {
     "name": "stdout",
     "output_type": "stream",
     "text": [
      "Input arrays:\n",
      "arr.dtype: int64\n",
      "a_min: nan\n",
      "a_max: 12\n"
     ]
    }
   ],
   "source": [
    "arr = np.array([1, 2, 5, 10, 15])\n",
    "a_min = np.nan\n",
    "a_max = 12\n",
    "print(\"Input arrays:\")\n",
    "print(\"arr.dtype:\", arr.dtype)\n",
    "print(\"a_min:\", a_min)\n",
    "print(\"a_max:\", a_max)"
   ]
  },
  {
   "cell_type": "code",
   "execution_count": 14,
   "id": "2e6de408",
   "metadata": {},
   "outputs": [
    {
     "name": "stdout",
     "output_type": "stream",
     "text": [
      "np.result_type(arr, a_min, a_max): float64\n"
     ]
    }
   ],
   "source": [
    "common_dtype = np.result_type(arr, a_min, a_max)\n",
    "print(\"np.result_type(arr, a_min, a_max):\", common_dtype)"
   ]
  },
  {
   "cell_type": "code",
   "execution_count": 15,
   "id": "36c85e0e",
   "metadata": {},
   "outputs": [
    {
     "name": "stdout",
     "output_type": "stream",
     "text": [
      "np.clip(arr, a_min, a_max): [nan nan nan nan nan]\n",
      "result.dtype: float64\n"
     ]
    }
   ],
   "source": [
    "result = np.clip(arr, a_min, a_max)\n",
    "print(\"np.clip(arr, a_min, a_max):\", result)\n",
    "print(\"result.dtype:\", result.dtype)"
   ]
  },
  {
   "cell_type": "code",
   "execution_count": 17,
   "id": "a0104f8a",
   "metadata": {},
   "outputs": [
    {
     "name": "stdout",
     "output_type": "stream",
     "text": [
      "@numba.njit np.clip(arr, a_min, a_max): [ 1  2  5 10 12]\n",
      "result.dtype: int64\n"
     ]
    }
   ],
   "source": [
    "@njit\n",
    "def clip_njit_nan(arr, a_min, a_max):\n",
    "    return np.clip(arr, a_min, a_max)\n",
    "result = clip_njit_nan(arr, a_min, a_max)\n",
    "print(\"@numba.njit np.clip(arr, a_min, a_max):\", result)\n",
    "print(\"result.dtype:\", result.dtype)"
   ]
  },
  {
   "cell_type": "markdown",
   "id": "a129e53b-e614-4f61-be34-e030f019fd53",
   "metadata": {},
   "source": [
    "numba’s np.clip does not handle NaN bounds the same way as np does\n",
    "\n",
    "#### on numpy\n",
    "NOTE: type promotion on arrays: (https://github.com/numpy/numpy/blob/9389862162bbd46b5324402d6a08a27bc18ddb7d/doc/source/reference/arrays.promotion.rst)\n",
    "- promotion rules as defined by NEP 50: (https://numpy.org/neps/nep-0050-scalar-promotion.html) \n",
    "\n",
    "- when np.clip is called, python implementation delgates it to array method via _wrapfunc, implemented in C.\n",
    "- https://github.com/numpy/numpy/blob/9389862162bbd46b5324402d6a08a27bc18ddb7d/numpy/_core/fromnumeric.py#L2242\n",
    "- https://github.com/numpy/numpy/blob/9389862162bbd46b5324402d6a08a27bc18ddb7d/numpy/_core/src/multiarray/calculation.c#L790C1-L790C13\n",
    "- https://github.com/numpy/numpy/blob/9389862162bbd46b5324402d6a08a27bc18ddb7d/numpy/_core/src/multiarray/convert_datatype.c#L1573\n",
    "\n",
    "#### on numba\n",
    "- https://github.com/numba/numba/blob/c21aa9273ef4298392695b1f4613d29456b53e5c/numba/np/arrayobj.py#L2342\n",
    "\n",
    "\n",
    "\n"
   ]
  },
  {
   "cell_type": "code",
   "execution_count": 18,
   "id": "86a39f74-de07-4616-b5f0-e9bd85a8eca5",
   "metadata": {},
   "outputs": [],
   "source": [
    "# _np_clip_impl(a, a_min, a_max, out) np.clip helper function on numba\n",
    "# https://github.com/numba/numba/blob/c21aa9273ef4298392695b1f4613d29456b53e5c/numba/np/arrayobj.py#L2342\n",
    "def numba_np_clip(a, a_min, a_max):\n",
    "    ret = np.empty_like(a)\n",
    "    a_b, a_min_b, a_max_b = np.broadcast_arrays(a, a_min, a_max)\n",
    "    for index in np.ndindex(a_b.shape):\n",
    "        val_a = a_b[index]\n",
    "        val_a_min = a_min_b[index]\n",
    "        val_a_max = a_max_b[index]\n",
    "        ret[index] = min(max(val_a, val_a_min), val_a_max)\n",
    "\n",
    "    return ret"
   ]
  },
  {
   "cell_type": "code",
   "execution_count": 30,
   "id": "0d3211d8",
   "metadata": {},
   "outputs": [
    {
     "name": "stdout",
     "output_type": "stream",
     "text": [
      "Input arrays:\n",
      "arr.dtype: int64\n",
      "a_min: nan\n",
      "a_max: nan\n",
      "np.result_type(arr, a_min, a_max): float64\n",
      "\n",
      "numba result: [ 1  2  5 10 15]\n",
      "numba result dtype: int64\n",
      "--------------------------------\n",
      "python result: [nan nan nan nan nan]\n",
      "python result dtype: float64\n"
     ]
    }
   ],
   "source": [
    "arr = np.array([1, 2, 5, 10, 15])\n",
    "a_min = np.nan\n",
    "a_max = np.nan\n",
    "print(\"Input arrays:\")\n",
    "print(\"arr.dtype:\", arr.dtype)\n",
    "print(\"a_min:\", a_min)\n",
    "print(\"a_max:\", a_max)\n",
    "common_dtype = np.result_type(arr, a_min, a_max)\n",
    "print(\"np.result_type(arr, a_min, a_max):\", common_dtype)\n",
    "\n",
    "@njit\n",
    "def clip_njit(arr, a_min, a_max):\n",
    "    return np.clip(arr, a_min, a_max)\n",
    "\n",
    "nb_result = clip_njit(arr, a_min, a_max)\n",
    "py_result = clip_njit.py_func(arr, a_min, a_max)\n",
    "print()\n",
    "print(\"numba result:\", nb_result)\n",
    "print(\"numba result dtype:\", nb_result.dtype)\n",
    "print(\"--------------------------------\")\n",
    "print(\"python result:\", py_result)\n",
    "print(\"python result dtype:\", py_result.dtype)"
   ]
  },
  {
   "cell_type": "code",
   "execution_count": 33,
   "id": "4d15caa9",
   "metadata": {},
   "outputs": [
    {
     "name": "stdout",
     "output_type": "stream",
     "text": [
      "Input arrays:\n",
      "arr.dtype: int64\n",
      "a_min: inf\n",
      "a_max: 12\n",
      "np.result_type(arr, a_min, a_max): float64\n",
      "\n",
      "numba result: [12 12 12 12 12]\n",
      "numba result dtype: int64\n",
      "--------------------------------\n",
      "python result: [12. 12. 12. 12. 12.]\n",
      "python result dtype: float64\n"
     ]
    }
   ],
   "source": [
    "arr = np.array([1, 2, 5, 10, 15])\n",
    "a_min = np.inf\n",
    "a_max = 12\n",
    "print(\"Input arrays:\")\n",
    "print(\"arr.dtype:\", arr.dtype)\n",
    "print(\"a_min:\", a_min)\n",
    "print(\"a_max:\", a_max)\n",
    "common_dtype = np.result_type(arr, a_min, a_max)\n",
    "print(\"np.result_type(arr, a_min, a_max):\", common_dtype)\n",
    "nb_result = clip_njit(arr, a_min, a_max)\n",
    "py_result = clip_njit.py_func(arr, a_min, a_max)\n",
    "print()\n",
    "print(\"numba result:\", nb_result)\n",
    "print(\"numba result dtype:\", nb_result.dtype)\n",
    "print(\"--------------------------------\")\n",
    "print(\"python result:\", py_result)\n",
    "print(\"python result dtype:\", py_result.dtype)"
   ]
  },
  {
   "cell_type": "code",
   "execution_count": 34,
   "id": "7be47b29",
   "metadata": {},
   "outputs": [
    {
     "name": "stdout",
     "output_type": "stream",
     "text": [
      "Input arrays:\n",
      "arr.dtype: int64\n",
      "a_min: 3\n",
      "a_max: inf\n",
      "np.result_type(arr, a_min, a_max): float64\n",
      "\n",
      "numba result: [ 3  3  5 10 15]\n",
      "numba result dtype: int64\n",
      "--------------------------------\n",
      "python result: [ 3.  3.  5. 10. 15.]\n",
      "python result dtype: float64\n"
     ]
    }
   ],
   "source": [
    "arr = np.array([1, 2, 5, 10, 15])\n",
    "a_min = 3\n",
    "a_max = np.inf\n",
    "print(\"Input arrays:\")\n",
    "print(\"arr.dtype:\", arr.dtype)\n",
    "print(\"a_min:\", a_min)\n",
    "print(\"a_max:\", a_max)\n",
    "common_dtype = np.result_type(arr, a_min, a_max)\n",
    "print(\"np.result_type(arr, a_min, a_max):\", common_dtype)\n",
    "nb_result = clip_njit(arr, a_min, a_max)\n",
    "py_result = clip_njit.py_func(arr, a_min, a_max)\n",
    "print()\n",
    "print(\"numba result:\", nb_result)\n",
    "print(\"numba result dtype:\", nb_result.dtype)\n",
    "print(\"--------------------------------\")\n",
    "print(\"python result:\", py_result)\n",
    "print(\"python result dtype:\", py_result.dtype)"
   ]
  },
  {
   "cell_type": "markdown",
   "id": "7c8b0c73",
   "metadata": {},
   "source": [
    "### revise np_clip implementation on numba with:\n",
    "\n",
    " type promotion for nan and inf (float64) : to address #9995 and #10000\n",
    "```\n",
    "    dtype = np.result_type(a, a_min, a_max)\n",
    "    ret = np.empty(br_shape, dtype=dtype)\n",
    "```\n",
    " \n",
    " and output shape accounting shapes of a_min and a_max as well : to address #9991\n",
    "```\n",
    "    br_shape = np.broadcast(a, a_min, a_max).shape\n",
    "    ret = np.empty(br_shape, dtype=dtype)\n",
    "```\n",
    "\n",
    "existing implementation on numba:\n",
    "https://github.com/numba/numba/blob/c21aa9273ef4298392695b1f4613d29456b53e5c/numba/np/arrayobj.py#L2342"
   ]
  },
  {
   "cell_type": "code",
   "execution_count": 50,
   "id": "86c87b11-ac75-4270-8af0-0def578724f8",
   "metadata": {},
   "outputs": [],
   "source": [
    "def revised_np_clip_impl(a, a_min, a_max):\n",
    "    dtype = np.result_type(a, a_min, a_max)\n",
    "    br_shape = np.broadcast(a, a_min, a_max).shape\n",
    "    ret = np.empty(br_shape, dtype=dtype)\n",
    "    a_b, a_min_b, a_max_b = np.broadcast_arrays(a, a_min, a_max)\n",
    "    for index in np.ndindex(a_b.shape):\n",
    "        val_a = a_b[index]\n",
    "        val_a_min = a_min_b[index]\n",
    "        val_a_max = a_max_b[index]\n",
    "        # Propagate NaN if either bound is NaN.\n",
    "        if np.isnan(val_a_min) or np.isnan(val_a_max):\n",
    "            ret[index] = np.nan\n",
    "        else:\n",
    "            ret[index] = min(max(val_a, val_a_min), val_a_max)\n",
    "\n",
    "    return ret"
   ]
  },
  {
   "cell_type": "code",
   "execution_count": 51,
   "id": "52dc3dc5-3906-4a8e-87df-1c8042d5b58e",
   "metadata": {},
   "outputs": [
    {
     "name": "stdout",
     "output_type": "stream",
     "text": [
      "arr: [ 1  2  5 10 15]\n",
      "\n",
      "* clip(arr, a_min=1, a_max=2) :\n",
      "revised_impl: [1 2 2 2 2]\n",
      "revised_impl.dtype: int64\n",
      "numpy: [1 2 2 2 2]\n",
      "numpy.dtype: int64\n",
      "--------------------------------\n",
      "* clip(arr, a_min=np.nan, a_max=np.nan) :\n",
      "revised_impl: [nan nan nan nan nan]\n",
      "revised_impl.dtype: float64\n",
      "numpy: [nan nan nan nan nan]\n",
      "numpy.dtype: float64\n",
      "--------------------------------\n"
     ]
    }
   ],
   "source": [
    "print(\"arr:\", arr)\n",
    "print()\n",
    "a_min = 1\n",
    "a_max = 2\n",
    "print(\"* clip(arr, a_min=1, a_max=2) :\")\n",
    "\n",
    "revised_impl_result = revised_np_clip_impl(arr, a_min, a_max)\n",
    "print(\"revised_impl:\", revised_impl_result)\n",
    "print(\"revised_impl.dtype:\", revised_impl_result.dtype)\n",
    "\n",
    "py_result = np.clip(arr, a_min, a_max)\n",
    "print(\"numpy:\", py_result)\n",
    "print(\"numpy.dtype:\", py_result.dtype)\n",
    "print(\"--------------------------------\")\n",
    "a_min = np.nan\n",
    "a_max = np.nan\n",
    "print(\"* clip(arr, a_min=np.nan, a_max=np.nan) :\")\n",
    "\n",
    "revised_impl_result = revised_np_clip_impl(arr, a_min, a_max)\n",
    "print(\"revised_impl:\", revised_impl_result)\n",
    "print(\"revised_impl.dtype:\", revised_impl_result.dtype)\n",
    "\n",
    "py_result = np.clip(arr, a_min, a_max)\n",
    "print(\"numpy:\", py_result)\n",
    "print(\"numpy.dtype:\", py_result.dtype)\n",
    "print(\"--------------------------------\")"
   ]
  },
  {
   "cell_type": "code",
   "execution_count": 54,
   "id": "67b044fa",
   "metadata": {},
   "outputs": [
    {
     "name": "stdout",
     "output_type": "stream",
     "text": [
      "arr: [ 1  2  5 10 15]\n",
      "\n",
      "* clip(arr, a_min=1, a_max=2) :\n",
      "revised: [12. 12. 12. 12. 12.]\n",
      "numpy: [12. 12. 12. 12. 12.]\n",
      "--------------------------------\n",
      "* clip(arr, a_min=np.nan, a_max=np.nan) :\n",
      "revised: [ 3.  3.  5. 10. 15.]\n",
      "numpy: [ 3.  3.  5. 10. 15.]\n"
     ]
    }
   ],
   "source": [
    "a_min = np.inf\n",
    "a_max = 12\n",
    "print(\"arr:\", arr)\n",
    "print()\n",
    "\n",
    "print(\"* clip(arr, a_min=1, a_max=2) :\")\n",
    "print(\"revised:\", revised_np_clip_impl(arr, a_min, a_max))\n",
    "print(\"numpy:\", np.clip(arr, a_min, a_max))\n",
    "\n",
    "a_min = 3\n",
    "a_max = np.inf\n",
    "print(\"--------------------------------\")\n",
    "print(\"* clip(arr, a_min=np.nan, a_max=np.nan) :\")\n",
    "print(\"revised:\", revised_np_clip_impl(arr, a_min, a_max))\n",
    "print(\"numpy:\", np.clip(arr, a_min, a_max))"
   ]
  },
  {
   "cell_type": "markdown",
   "id": "9f3677dd",
   "metadata": {},
   "source": [
    "### addressing #9991: https://github.com/numba/numba/issues/9991"
   ]
  },
  {
   "cell_type": "code",
   "execution_count": 57,
   "id": "9e653e8c-651b-437f-afde-51954d4eba68",
   "metadata": {},
   "outputs": [
    {
     "name": "stdout",
     "output_type": "stream",
     "text": [
      "numba result: [[1]\n",
      " [2]]\n",
      "numba result shape: (2, 1)\n",
      "--------------------------------\n",
      "python result: [[1 1 1]\n",
      " [2 2 2]]\n",
      "python result shape: (2, 3)\n"
     ]
    }
   ],
   "source": [
    "arr = np.array([[1], [2]])\n",
    "a_min = 0\n",
    "a_max = np.array([3, 4, 5])\n",
    "\n",
    "@njit\n",
    "def clip_njit(arr, a_min, a_max):\n",
    "    return np.clip(arr, a_min, a_max)\n",
    "\n",
    "nb_result = clip_njit(arr, a_min, a_max)\n",
    "py_result = clip_njit.py_func(arr, a_min, a_max)\n",
    "print(\"numba result:\", nb_result)\n",
    "print(\"numba result shape:\", nb_result.shape)\n",
    "print(\"--------------------------------\")\n",
    "print(\"python result:\", py_result)\n",
    "print(\"python result shape:\", py_result.shape)\n"
   ]
  },
  {
   "cell_type": "code",
   "execution_count": 60,
   "id": "0c37e8f1-9df3-4f1f-9976-705f4a2f6a93",
   "metadata": {},
   "outputs": [
    {
     "name": "stdout",
     "output_type": "stream",
     "text": [
      "revised_impl: [[1 1 1]\n",
      " [2 2 2]]\n",
      "revised_impl shape: (2, 3)\n",
      "--------------------------------\n"
     ]
    }
   ],
   "source": [
    "revised_impl_result = revised_np_clip_impl(np.array(arr), a_min, a_max)\n",
    "print(\"revised_impl:\", revised_impl_result)\n",
    "print(\"revised_impl shape:\", revised_impl_result.shape)\n",
    "print(\"--------------------------------\")\n"
   ]
  },
  {
   "cell_type": "markdown",
   "id": "32bcd420",
   "metadata": {},
   "source": [
    "## np.kron issue: [#9992](https://github.com/numba/numba/issues/9992)\n",
    "   - Type promotion differences between numpy and numba\n",
    "   - Boolean array handling"
   ]
  },
  {
   "cell_type": "code",
   "execution_count": 62,
   "id": "3b2d0add",
   "metadata": {},
   "outputs": [
    {
     "name": "stdout",
     "output_type": "stream",
     "text": [
      "a.dtype: bool\n",
      "b.dtype: int64\n",
      "np.result_type(a, b): int64\n"
     ]
    }
   ],
   "source": [
    "a = np.array([True])\n",
    "b = np.array([5])\n",
    "print(\"a.dtype:\", a.dtype)\n",
    "print(\"b.dtype:\", b.dtype)\n",
    "common_dtype = np.result_type(a, b)\n",
    "print(\"np.result_type(a, b):\", common_dtype)"
   ]
  },
  {
   "cell_type": "code",
   "execution_count": null,
   "id": "c1c5a439",
   "metadata": {},
   "outputs": [
    {
     "name": "stdout",
     "output_type": "stream",
     "text": [
      "a.dtype: bool\n",
      "b.dtype: int64\n",
      "np.result_type(a, b): int64\n",
      "np.promote_types(a.dtype, b.dtype): int64\n",
      "--------------------------------\n",
      "np.kron(a, b): [5]\n",
      "result.dtype: int64\n",
      "--------------------------------\n",
      "@numba.njit np.kron(a, b): [ True]\n",
      "result.dtype: bool\n"
     ]
    }
   ],
   "source": [
    "a = np.array([True])\n",
    "b = np.array([5])\n",
    "print(\"a.dtype:\", a.dtype)\n",
    "print(\"b.dtype:\", b.dtype)\n",
    "common_dtype = np.result_type(a, b)\n",
    "promoted_dtype = np.promote_types(a.dtype, b.dtype)\n",
    "print(\"np.result_type(a, b):\", common_dtype)\n",
    "print(\"--------------------------------\")\n",
    "result = np.kron(a, b)\n",
    "print(\"np.kron(a, b):\", result)\n",
    "print(\"result.dtype:\", result.dtype)\n",
    "print(\"--------------------------------\")\n",
    "@njit\n",
    "def kron_njit(a, b):\n",
    "    return np.kron(a, b)\n",
    "result = kron_njit(a, b)\n",
    "print(\"@numba.njit np.kron(a, b):\", result)\n",
    "print(\"result.dtype:\", result.dtype)\n"
   ]
  }
 ],
 "metadata": {
  "kernelspec": {
   "display_name": ".venv",
   "language": "python",
   "name": "python3"
  },
  "language_info": {
   "codemirror_mode": {
    "name": "ipython",
    "version": 3
   },
   "file_extension": ".py",
   "mimetype": "text/x-python",
   "name": "python",
   "nbconvert_exporter": "python",
   "pygments_lexer": "ipython3",
   "version": "3.12.9"
  }
 },
 "nbformat": 4,
 "nbformat_minor": 5
}
