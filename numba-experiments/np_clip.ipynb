{
 "cells": [
  {
   "cell_type": "code",
   "execution_count": 2,
   "id": "5adab152-71a9-4777-890c-e8d6ca350e9a",
   "metadata": {},
   "outputs": [
    {
     "name": "stdout",
     "output_type": "stream",
     "text": [
      "\u001b[2mUsing Python 3.12.9 environment at: /Users/swap357/Documents/dev/learning-numba/.venv\u001b[0m\n",
      "\u001b[2K\u001b[2mResolved \u001b[1m3 packages\u001b[0m \u001b[2min 99ms\u001b[0m\u001b[0m                                          \u001b[0m\n",
      "\u001b[2K\u001b[2mInstalled \u001b[1m3 packages\u001b[0m \u001b[2min 49ms\u001b[0m\u001b[0m                                \u001b[0m\n",
      " \u001b[32m+\u001b[39m \u001b[1mllvmlite\u001b[0m\u001b[2m==0.44.0\u001b[0m\n",
      " \u001b[32m+\u001b[39m \u001b[1mnumba\u001b[0m\u001b[2m==0.61.0\u001b[0m\n",
      " \u001b[32m+\u001b[39m \u001b[1mnumpy\u001b[0m\u001b[2m==2.1.3\u001b[0m\n"
     ]
    }
   ],
   "source": [
    "!uv pip install numba"
   ]
  },
  {
   "cell_type": "code",
   "execution_count": 3,
   "id": "e4204078-7774-41ce-8b03-5d43fda78585",
   "metadata": {},
   "outputs": [],
   "source": [
    "import numpy as np\n",
    "from numba import njit"
   ]
  },
  {
   "cell_type": "code",
   "execution_count": 8,
   "id": "d2dc42ad-71d3-4112-b320-7a44385669b6",
   "metadata": {},
   "outputs": [
    {
     "name": "stdout",
     "output_type": "stream",
     "text": [
      "[ 3  3  5 10 12]\n"
     ]
    }
   ],
   "source": [
    "arr = np.array([1, 2, 5, 10, 15])\n",
    "clipped = np.clip(arr, 3, 12)\n",
    "print(clipped)"
   ]
  },
  {
   "cell_type": "code",
   "execution_count": null,
   "id": "577d1a03-ab19-4e01-a103-d6bbc804cda3",
   "metadata": {},
   "outputs": [],
   "source": []
  },
  {
   "cell_type": "code",
   "execution_count": 4,
   "id": "55f545f8-341d-4516-a07b-8444130d1238",
   "metadata": {},
   "outputs": [],
   "source": [
    "@njit\n",
    "def clip_njit():\n",
    "    return np.clip(np.array([1, 2]), a_min=np.nan, a_max=np.nan)\n"
   ]
  },
  {
   "cell_type": "code",
   "execution_count": 15,
   "id": "aa287862-b1dc-4ca1-8c1f-10b9cb033052",
   "metadata": {},
   "outputs": [
    {
     "name": "stdout",
     "output_type": "stream",
     "text": [
      "[nan nan nan nan]\n"
     ]
    }
   ],
   "source": [
    "print(np.clip(np.array([0, 1, 2, 3]), a_min=np.nan, a_max=2))"
   ]
  },
  {
   "cell_type": "code",
   "execution_count": 14,
   "id": "1bc8fe2b-f920-4bb1-9bfc-8ebc25cc0a15",
   "metadata": {},
   "outputs": [
    {
     "name": "stdout",
     "output_type": "stream",
     "text": [
      "[1 2]\n"
     ]
    }
   ],
   "source": [
    "print(clip_njit())"
   ]
  },
  {
   "cell_type": "markdown",
   "id": "a129e53b-e614-4f61-be34-e030f019fd53",
   "metadata": {},
   "source": [
    "numba’s np.clip is not handling NaN bounds the same way as np does"
   ]
  },
  {
   "cell_type": "code",
   "execution_count": 30,
   "id": "86a39f74-de07-4616-b5f0-e9bd85a8eca5",
   "metadata": {},
   "outputs": [],
   "source": [
    "# _np_clip_impl(a, a_min, a_max, out) \n",
    "# https://github.com/numba/numba/blob/c21aa9273ef4298392695b1f4613d29456b53e5c/numba/np/arrayobj.py#L2342\n",
    "def numba_np_clip(a, a_min, a_max):\n",
    "    ret = np.empty_like(a)\n",
    "    a_b, a_min_b, a_max_b = np.broadcast_arrays(a, a_min, a_max)\n",
    "    for index in np.ndindex(a_b.shape):\n",
    "        val_a = a_b[index]\n",
    "        val_a_min = a_min_b[index]\n",
    "        val_a_max = a_max_b[index]\n",
    "        ret[index] = min(max(val_a, val_a_min), val_a_max)\n",
    "\n",
    "    return ret"
   ]
  },
  {
   "cell_type": "code",
   "execution_count": 31,
   "id": "03905d33-f0a9-4af4-9a22-25fb459b722b",
   "metadata": {},
   "outputs": [
    {
     "name": "stdout",
     "output_type": "stream",
     "text": [
      "arr: [ 1  2  5 10 15]\n",
      "\n",
      "(arr, a_min=1, a_max=2) :\n",
      "numba: [1 2 2 2 2]\n",
      "numpy: [1 2 2 2 2]\n",
      "\n",
      "(arr, a_min=np.nan, a_max=2) :\n",
      "numba: [1 2 2 2 2]\n",
      "numpy: [nan nan nan nan nan]\n",
      "\n",
      "(arr, a_min=1, a_max=np.nan) :\n",
      "numba: [ 1  2  5 10 15]\n",
      "numpy: [nan nan nan nan nan]\n",
      "\n",
      "(arr, a_min=np.nan, a_max=np.nan) :\n",
      "numba: [ 1  2  5 10 15]\n",
      "numpy: [nan nan nan nan nan]\n"
     ]
    }
   ],
   "source": [
    "print(\"arr:\", arr)\n",
    "print()\n",
    "\n",
    "print(\"(arr, a_min=1, a_max=2) :\")\n",
    "print(\"numba:\", numba_np_clip(arr, a_min=1, a_max=2))\n",
    "print(\"numpy:\", np.clip(arr, a_min=1, a_max=2))\n",
    "print()\n",
    "\n",
    "print(\"(arr, a_min=np.nan, a_max=2) :\")\n",
    "print(\"numba:\", numba_np_clip(arr, a_min=np.nan, a_max=2))\n",
    "print(\"numpy:\", np.clip(arr, a_min=np.nan, a_max=2))\n",
    "print()\n",
    "\n",
    "print(\"(arr, a_min=1, a_max=np.nan) :\")\n",
    "print(\"numba:\", numba_np_clip(arr, a_min=1, a_max=np.nan))\n",
    "print(\"numpy:\", np.clip(arr, a_min=1, a_max=np.nan))\n",
    "print()\n",
    "\n",
    "print(\"(arr, a_min=np.nan, a_max=np.nan) :\")\n",
    "print(\"numba:\", numba_np_clip(arr, a_min=np.nan, a_max=np.nan))\n",
    "print(\"numpy:\", np.clip(arr, a_min=np.nan, a_max=np.nan))"
   ]
  },
  {
   "cell_type": "code",
   "execution_count": 42,
   "id": "86c87b11-ac75-4270-8af0-0def578724f8",
   "metadata": {},
   "outputs": [],
   "source": [
    "def revised_np_clip(a, a_min, a_max):\n",
    "    dtype = np.result_type(a, a_min, a_max)\n",
    "    print('required dtype for ret based on (a,: ', dtype)\n",
    "    ret = np.empty(a.shape, dtype=dtype)\n",
    "    a_b, a_min_b, a_max_b = np.broadcast_arrays(a, a_min, a_max)\n",
    "    for index in np.ndindex(a_b.shape):\n",
    "        val_a = a_b[index]\n",
    "        val_a_min = a_min_b[index]\n",
    "        val_a_max = a_max_b[index]\n",
    "        # Propagate NaN if either bound is NaN.\n",
    "        if np.isnan(val_a_min) or np.isnan(val_a_max):\n",
    "            ret[index] = np.nan\n",
    "        else:\n",
    "            ret[index] = min(max(val_a, val_a_min), val_a_max)\n",
    "\n",
    "    return ret"
   ]
  },
  {
   "cell_type": "code",
   "execution_count": 43,
   "id": "52dc3dc5-3906-4a8e-87df-1c8042d5b58e",
   "metadata": {},
   "outputs": [
    {
     "name": "stdout",
     "output_type": "stream",
     "text": [
      "arr: [ 1  2  5 10 15]\n",
      "\n",
      "(arr, a_min=1, a_max=2) :\n",
      "required dtype for ret:  int64\n",
      "revised: [1 2 2 2 2]\n",
      "numpy: [1 2 2 2 2]\n",
      "\n",
      "(arr, a_min=np.nan, a_max=2) :\n",
      "required dtype for ret:  float64\n",
      "revised: [nan nan nan nan nan]\n",
      "numpy: [nan nan nan nan nan]\n",
      "\n",
      "(arr, a_min=1, a_max=np.nan) :\n",
      "required dtype for ret:  float64\n",
      "revised: [nan nan nan nan nan]\n",
      "numpy: [nan nan nan nan nan]\n",
      "\n",
      "(arr, a_min=np.nan, a_max=np.nan) :\n",
      "required dtype for ret:  float64\n",
      "revised: [nan nan nan nan nan]\n",
      "numpy: [nan nan nan nan nan]\n"
     ]
    }
   ],
   "source": [
    "print(\"arr:\", arr)\n",
    "print()\n",
    "\n",
    "print(\"(arr, a_min=1, a_max=2) :\")\n",
    "print(\"revised:\", revised_np_clip(arr, a_min=1, a_max=2))\n",
    "print(\"numpy:\", np.clip(arr, a_min=1, a_max=2))\n",
    "print()\n",
    "\n",
    "print(\"(arr, a_min=np.nan, a_max=2) :\")\n",
    "print(\"revised:\", revised_np_clip(arr, a_min=np.nan, a_max=2))\n",
    "print(\"numpy:\", np.clip(arr, a_min=np.nan, a_max=2))\n",
    "print()\n",
    "\n",
    "print(\"(arr, a_min=1, a_max=np.nan) :\")\n",
    "print(\"revised:\", revised_np_clip(arr, a_min=1, a_max=np.nan))\n",
    "print(\"numpy:\", np.clip(arr, a_min=1, a_max=np.nan))\n",
    "print()\n",
    "\n",
    "print(\"(arr, a_min=np.nan, a_max=np.nan) :\")\n",
    "print(\"revised:\", revised_np_clip(arr, a_min=np.nan, a_max=np.nan))\n",
    "print(\"numpy:\", np.clip(arr, a_min=np.nan, a_max=np.nan))"
   ]
  },
  {
   "cell_type": "code",
   "execution_count": 37,
   "id": "11147211-2af4-4a1b-9939-5ed81fac7389",
   "metadata": {},
   "outputs": [
    {
     "ename": "NameError",
     "evalue": "name 'a' is not defined",
     "output_type": "error",
     "traceback": [
      "\u001b[31m---------------------------------------------------------------------------\u001b[39m",
      "\u001b[31mNameError\u001b[39m                                 Traceback (most recent call last)",
      "\u001b[36mCell\u001b[39m\u001b[36m \u001b[39m\u001b[32mIn[37]\u001b[39m\u001b[32m, line 1\u001b[39m\n\u001b[32m----> \u001b[39m\u001b[32m1\u001b[39m \u001b[38;5;28mprint\u001b[39m(np.result_type(\u001b[43ma\u001b[49m, a_min, a_max))\n",
      "\u001b[31mNameError\u001b[39m: name 'a' is not defined"
     ]
    }
   ],
   "source": []
  }
 ],
 "metadata": {
  "kernelspec": {
   "display_name": "Python 3 (ipykernel)",
   "language": "python",
   "name": "python3"
  },
  "language_info": {
   "codemirror_mode": {
    "name": "ipython",
    "version": 3
   },
   "file_extension": ".py",
   "mimetype": "text/x-python",
   "name": "python",
   "nbconvert_exporter": "python",
   "pygments_lexer": "ipython3",
   "version": "3.12.9"
  }
 },
 "nbformat": 4,
 "nbformat_minor": 5
}
